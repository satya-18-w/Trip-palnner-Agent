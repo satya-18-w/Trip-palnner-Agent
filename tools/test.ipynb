{
 "cells": [
  {
   "cell_type": "code",
   "execution_count": 9,
   "metadata": {},
   "outputs": [
    {
     "name": "stdout",
     "output_type": "stream",
     "text": [
      "{\"searchParameters\":{\"q\":\"apple inc\",\"type\":\"news\",\"engine\":\"google\"},\"news\":[{\"title\":\"Apple sheds $300 billion in tariff-fueled sell-off, on track for worst drop since March 2020\",\"link\":\"https://finance.yahoo.com/news/apple-sheds-300-billion-in-tariff-fueled-sell-off-on-track-for-worst-drop-since-march-2020-175727479.html\",\"snippet\":\"Tech stocks plummeted on Thursday, with Apple (AAPL) leading \\\"Magnificent Seven\\\" names lower following President Trump's reciprocal tariff...\",\"date\":\"1 day ago\",\"source\":\"Yahoo Finance\",\"imageUrl\":\"https://encrypted-tbn0.gstatic.com/images?q=tbn:ANd9GcSrKuUiVrKRsmu1lUvmBa1953K7TmHqCOfGH9yaJsHMwe5oSxxSjRez8YYtaw&s\",\"position\":1},{\"title\":\"Overweighting Apple And Microsoft: A Strategic Play For Strong Risk-Adjusted Returns\",\"link\":\"https://seekingalpha.com/article/4772934-overweighting-apple-and-microsoft-a-strategic-play-for-strong-risk-adjusted-returns\",\"snippet\":\"Apr. 04, 2025 1:00 PM ETApple Inc. (AAPL) Stock, AAPL:CA StockMSFT, VOO, NVDA, AAPL:CA, MSFT:CA, AAPL17 Comments 2 Likes. Frederik Mueller. 9.77K Followers.\",\"date\":\"12 hours ago\",\"source\":\"Seeking Alpha\",\"imageUrl\":\"https://encrypted-tbn0.gstatic.com/images?q=tbn:ANd9GcSe6eN26HB0FeCfm2f6TwmqxXTZ1n9baEDmlrY1xd4K8fNZ9Ce_4V-k7phhSg&s\",\"position\":2},{\"title\":\"Michigan State partners with Apple on Detroit manufacturing academy\",\"link\":\"https://www.detroitnews.com/story/business/2025/04/03/michigan-state-partners-with-apple-on-detroit-manufacturing-academy/82780162007/\",\"snippet\":\"Michigan State University said Thursday it is partnering with Apple Inc. on the Apple Manufacturing Academy, an initiative designed to...\",\"date\":\"1 day ago\",\"source\":\"The Detroit News\",\"imageUrl\":\"https://encrypted-tbn0.gstatic.com/images?q=tbn:ANd9GcTS5Dg9kaljrFXfiq-HIVUgFT0eHhHl_QQVNYuYcBdm8lMG2VzlHepaBVkp2w&s\",\"position\":3},{\"title\":\"What Does the Market Think About Apple?\",\"link\":\"https://www.benzinga.com/insights/short-sellers/25/04/44633436/what-does-the-market-think-about-apple\",\"snippet\":\"Apple's. AAPL-6.85%. Get Free Report. short percent of float has fallen 4.44% since its last report. The company recently reported that it...\",\"date\":\"1 day ago\",\"source\":\"Benzinga\",\"imageUrl\":\"https://encrypted-tbn0.gstatic.com/images?q=tbn:ANd9GcRbR4dX27as401p9rJ0C2QnmBascx4iOXgnwlfSNR6ufS4p0UMDinDEoXdOkg&s\",\"position\":4},{\"title\":\"‘Earnings Could Drop by 28%,’ Says Needham about Apple Stock (AAPL)\",\"link\":\"https://markets.businessinsider.com/news/stocks/earnings-could-drop-by-28-says-needham-about-apple-stock-aapl-1034552189\",\"snippet\":\"Needham analysts said that tech titan Apple (AAPL) could see its full-year earnings per share drop by 28%—or about $2 per share—if it...\",\"date\":\"5 hours ago\",\"source\":\"markets.businessinsider.com\",\"imageUrl\":\"https://encrypted-tbn0.gstatic.com/images?q=tbn:ANd9GcRLmoAxivPqI55B1h_gPMvQQQ3Vvp1I8kd2N6LvmyUyRIVr6JrrTJrym-P5Kw&s\",\"position\":5},{\"title\":\"Apple investors lose $300bn as Trump unleashes 'Category 5 hurricane' of tariffs\",\"link\":\"https://www.proactiveinvestors.co.uk/companies/news/1069122/apple-investors-lose-300bn-as-trump-unleashes-category-5-hurricane-of-tariffs-1069122.html\",\"snippet\":\"Wall Street's biggest tech names took a bruising after hours on Thursday, as investors reacted to sweeping new tariffs announced by...\",\"date\":\"22 hours ago\",\"source\":\"Proactive Investors\",\"imageUrl\":\"https://encrypted-tbn0.gstatic.com/images?q=tbn:ANd9GcTJ3sIxROyCKxC6ARo5SkRPucEAqlhnY6rIEG3jHufr9wzb9dnBaAxT6Klqig&s\",\"position\":6},{\"title\":\"Jim Cramer Says He’s ‘With’ Latest Apple (AAPL) Bull Note With $275 Price Target\",\"link\":\"https://finance.yahoo.com/news/jim-cramer-says-latest-apple-203148417.html\",\"snippet\":\"We recently published a list of Top 10 Stocks to Watch as AI Trade Dynamics Change. In this article, we are going to take a look at where...\",\"date\":\"1 day ago\",\"source\":\"Yahoo Finance\",\"imageUrl\":\"https://encrypted-tbn0.gstatic.com/images?q=tbn:ANd9GcRqs3Ew-dTK28r3XdWgkrPRm-JtIU5tkqmRPSuzlUE1blx3MPEQ9CcevfvDkg&s\",\"position\":7},{\"title\":\"Apple Inc. (AAPL) Is a Trending Stock: Facts to Know Before Betting on It\",\"link\":\"https://finance.yahoo.com/news/apple-inc-aapl-trending-stock-130012372.html\",\"snippet\":\"Apple (AAPL) has been one of the stocks most watched by Zacks.com users lately. So, it is worth exploring what lies ahead for the stock.\",\"date\":\"16 hours ago\",\"source\":\"Yahoo Finance\",\"imageUrl\":\"https://encrypted-tbn0.gstatic.com/images?q=tbn:ANd9GcSq5KsQP-jUwgm4VgmsnBSBaYWGTVlfxhZAfPjgfiS3Qz6PNC8Erbg-7H3aXQ&s\",\"position\":8},{\"title\":\"Apple Just Had Its Worst Day Since 2020: The Stock Is Still Expensive\",\"link\":\"https://seekingalpha.com/article/4773022-apple-just-had-its-worst-day-since-2020-stock-still-expensive\",\"snippet\":\"Trump's tariffs hit Apple Inc. hard, with it down 9%. Click here to know how AAPL's supply chain dependencies make it vulnerable to tariffs.\",\"date\":\"15 hours ago\",\"source\":\"Seeking Alpha\",\"imageUrl\":\"https://encrypted-tbn0.gstatic.com/images?q=tbn:ANd9GcQW27qDLaJmMkT4gpxerPqGngT-6WhYcBqc2zBLyn4fHMWJTDOIlzn0N0ketg&s\",\"position\":9},{\"title\":\"Jim Cramer on Apple Inc. (NASDAQ:AAPL): “Apple is a great stock but. . .”\",\"link\":\"https://finance.yahoo.com/news/jim-cramer-apple-inc-nasdaq-213514749.html\",\"snippet\":\"We recently published a list of Jim Cramer Discusses These 8 Stocks & Says Trump's Focused On His Goals And Not The Market.\",\"date\":\"3 days ago\",\"source\":\"Yahoo Finance\",\"imageUrl\":\"https://encrypted-tbn0.gstatic.com/images?q=tbn:ANd9GcTQAGdCH4CweprpCje2jKaNt698USOZuIRucHo7SQ_ckHtqa1bidWxn26sPSA&s\",\"position\":10}],\"credits\":1}\n"
     ]
    }
   ],
   "source": [
    "import http.client\n",
    "import json\n",
    "\n",
    "conn = http.client.HTTPSConnection(\"google.serper.dev\")\n",
    "payload = json.dumps({\n",
    "  \"q\": \"apple inc\"\n",
    "})\n",
    "headers = {\n",
    "  'X-API-KEY': 'dde59488bf1b0184a907ba7d9af7364a86abaee1',\n",
    "  'Content-Type': 'application/json'\n",
    "}\n",
    "conn.request(\"POST\", \"/news\", payload, headers)\n",
    "res = conn.getresponse()\n",
    "data = res.read()\n",
    "print(data.decode(\"utf-8\"))\n",
    "result=data.decode(\"utf-8\")"
   ]
  },
  {
   "cell_type": "code",
   "execution_count": 12,
   "metadata": {},
   "outputs": [],
   "source": [
    "data=json.loads(result)"
   ]
  },
  {
   "cell_type": "code",
   "execution_count": 15,
   "metadata": {},
   "outputs": [],
   "source": [
    "dt=data[\"news\"]"
   ]
  },
  {
   "cell_type": "code",
   "execution_count": 16,
   "metadata": {},
   "outputs": [],
   "source": [
    "import numpy as np\n",
    "import pandas as pd\n"
   ]
  },
  {
   "cell_type": "code",
   "execution_count": 17,
   "metadata": {},
   "outputs": [
    {
     "data": {
      "application/vnd.microsoft.datawrangler.viewer.v0+json": {
       "columns": [
        {
         "name": "index",
         "rawType": "int64",
         "type": "integer"
        },
        {
         "name": "title",
         "rawType": "object",
         "type": "string"
        },
        {
         "name": "link",
         "rawType": "object",
         "type": "string"
        },
        {
         "name": "snippet",
         "rawType": "object",
         "type": "string"
        },
        {
         "name": "date",
         "rawType": "object",
         "type": "string"
        },
        {
         "name": "source",
         "rawType": "object",
         "type": "string"
        },
        {
         "name": "imageUrl",
         "rawType": "object",
         "type": "string"
        },
        {
         "name": "position",
         "rawType": "int64",
         "type": "integer"
        }
       ],
       "conversionMethod": "pd.DataFrame",
       "ref": "d46eb3ec-97e7-4367-8cbd-c976467377d8",
       "rows": [
        [
         "0",
         "Apple sheds $300 billion in tariff-fueled sell-off, on track for worst drop since March 2020",
         "https://finance.yahoo.com/news/apple-sheds-300-billion-in-tariff-fueled-sell-off-on-track-for-worst-drop-since-march-2020-175727479.html",
         "Tech stocks plummeted on Thursday, with Apple (AAPL) leading \"Magnificent Seven\" names lower following President Trump's reciprocal tariff...",
         "1 day ago",
         "Yahoo Finance",
         "https://encrypted-tbn0.gstatic.com/images?q=tbn:ANd9GcSrKuUiVrKRsmu1lUvmBa1953K7TmHqCOfGH9yaJsHMwe5oSxxSjRez8YYtaw&s",
         "1"
        ],
        [
         "1",
         "Overweighting Apple And Microsoft: A Strategic Play For Strong Risk-Adjusted Returns",
         "https://seekingalpha.com/article/4772934-overweighting-apple-and-microsoft-a-strategic-play-for-strong-risk-adjusted-returns",
         "Apr. 04, 2025 1:00 PM ETApple Inc. (AAPL) Stock, AAPL:CA StockMSFT, VOO, NVDA, AAPL:CA, MSFT:CA, AAPL17 Comments 2 Likes. Frederik Mueller. 9.77K Followers.",
         "12 hours ago",
         "Seeking Alpha",
         "https://encrypted-tbn0.gstatic.com/images?q=tbn:ANd9GcSe6eN26HB0FeCfm2f6TwmqxXTZ1n9baEDmlrY1xd4K8fNZ9Ce_4V-k7phhSg&s",
         "2"
        ],
        [
         "2",
         "Michigan State partners with Apple on Detroit manufacturing academy",
         "https://www.detroitnews.com/story/business/2025/04/03/michigan-state-partners-with-apple-on-detroit-manufacturing-academy/82780162007/",
         "Michigan State University said Thursday it is partnering with Apple Inc. on the Apple Manufacturing Academy, an initiative designed to...",
         "1 day ago",
         "The Detroit News",
         "https://encrypted-tbn0.gstatic.com/images?q=tbn:ANd9GcTS5Dg9kaljrFXfiq-HIVUgFT0eHhHl_QQVNYuYcBdm8lMG2VzlHepaBVkp2w&s",
         "3"
        ],
        [
         "3",
         "What Does the Market Think About Apple?",
         "https://www.benzinga.com/insights/short-sellers/25/04/44633436/what-does-the-market-think-about-apple",
         "Apple's. AAPL-6.85%. Get Free Report. short percent of float has fallen 4.44% since its last report. The company recently reported that it...",
         "1 day ago",
         "Benzinga",
         "https://encrypted-tbn0.gstatic.com/images?q=tbn:ANd9GcRbR4dX27as401p9rJ0C2QnmBascx4iOXgnwlfSNR6ufS4p0UMDinDEoXdOkg&s",
         "4"
        ],
        [
         "4",
         "‘Earnings Could Drop by 28%,’ Says Needham about Apple Stock (AAPL)",
         "https://markets.businessinsider.com/news/stocks/earnings-could-drop-by-28-says-needham-about-apple-stock-aapl-1034552189",
         "Needham analysts said that tech titan Apple (AAPL) could see its full-year earnings per share drop by 28%—or about $2 per share—if it...",
         "5 hours ago",
         "markets.businessinsider.com",
         "https://encrypted-tbn0.gstatic.com/images?q=tbn:ANd9GcRLmoAxivPqI55B1h_gPMvQQQ3Vvp1I8kd2N6LvmyUyRIVr6JrrTJrym-P5Kw&s",
         "5"
        ],
        [
         "5",
         "Apple investors lose $300bn as Trump unleashes 'Category 5 hurricane' of tariffs",
         "https://www.proactiveinvestors.co.uk/companies/news/1069122/apple-investors-lose-300bn-as-trump-unleashes-category-5-hurricane-of-tariffs-1069122.html",
         "Wall Street's biggest tech names took a bruising after hours on Thursday, as investors reacted to sweeping new tariffs announced by...",
         "22 hours ago",
         "Proactive Investors",
         "https://encrypted-tbn0.gstatic.com/images?q=tbn:ANd9GcTJ3sIxROyCKxC6ARo5SkRPucEAqlhnY6rIEG3jHufr9wzb9dnBaAxT6Klqig&s",
         "6"
        ],
        [
         "6",
         "Jim Cramer Says He’s ‘With’ Latest Apple (AAPL) Bull Note With $275 Price Target",
         "https://finance.yahoo.com/news/jim-cramer-says-latest-apple-203148417.html",
         "We recently published a list of Top 10 Stocks to Watch as AI Trade Dynamics Change. In this article, we are going to take a look at where...",
         "1 day ago",
         "Yahoo Finance",
         "https://encrypted-tbn0.gstatic.com/images?q=tbn:ANd9GcRqs3Ew-dTK28r3XdWgkrPRm-JtIU5tkqmRPSuzlUE1blx3MPEQ9CcevfvDkg&s",
         "7"
        ],
        [
         "7",
         "Apple Inc. (AAPL) Is a Trending Stock: Facts to Know Before Betting on It",
         "https://finance.yahoo.com/news/apple-inc-aapl-trending-stock-130012372.html",
         "Apple (AAPL) has been one of the stocks most watched by Zacks.com users lately. So, it is worth exploring what lies ahead for the stock.",
         "16 hours ago",
         "Yahoo Finance",
         "https://encrypted-tbn0.gstatic.com/images?q=tbn:ANd9GcSq5KsQP-jUwgm4VgmsnBSBaYWGTVlfxhZAfPjgfiS3Qz6PNC8Erbg-7H3aXQ&s",
         "8"
        ],
        [
         "8",
         "Apple Just Had Its Worst Day Since 2020: The Stock Is Still Expensive",
         "https://seekingalpha.com/article/4773022-apple-just-had-its-worst-day-since-2020-stock-still-expensive",
         "Trump's tariffs hit Apple Inc. hard, with it down 9%. Click here to know how AAPL's supply chain dependencies make it vulnerable to tariffs.",
         "15 hours ago",
         "Seeking Alpha",
         "https://encrypted-tbn0.gstatic.com/images?q=tbn:ANd9GcQW27qDLaJmMkT4gpxerPqGngT-6WhYcBqc2zBLyn4fHMWJTDOIlzn0N0ketg&s",
         "9"
        ],
        [
         "9",
         "Jim Cramer on Apple Inc. (NASDAQ:AAPL): “Apple is a great stock but. . .”",
         "https://finance.yahoo.com/news/jim-cramer-apple-inc-nasdaq-213514749.html",
         "We recently published a list of Jim Cramer Discusses These 8 Stocks & Says Trump's Focused On His Goals And Not The Market.",
         "3 days ago",
         "Yahoo Finance",
         "https://encrypted-tbn0.gstatic.com/images?q=tbn:ANd9GcTQAGdCH4CweprpCje2jKaNt698USOZuIRucHo7SQ_ckHtqa1bidWxn26sPSA&s",
         "10"
        ]
       ],
       "shape": {
        "columns": 7,
        "rows": 10
       }
      },
      "text/html": [
       "<div>\n",
       "<style scoped>\n",
       "    .dataframe tbody tr th:only-of-type {\n",
       "        vertical-align: middle;\n",
       "    }\n",
       "\n",
       "    .dataframe tbody tr th {\n",
       "        vertical-align: top;\n",
       "    }\n",
       "\n",
       "    .dataframe thead th {\n",
       "        text-align: right;\n",
       "    }\n",
       "</style>\n",
       "<table border=\"1\" class=\"dataframe\">\n",
       "  <thead>\n",
       "    <tr style=\"text-align: right;\">\n",
       "      <th></th>\n",
       "      <th>title</th>\n",
       "      <th>link</th>\n",
       "      <th>snippet</th>\n",
       "      <th>date</th>\n",
       "      <th>source</th>\n",
       "      <th>imageUrl</th>\n",
       "      <th>position</th>\n",
       "    </tr>\n",
       "  </thead>\n",
       "  <tbody>\n",
       "    <tr>\n",
       "      <th>0</th>\n",
       "      <td>Apple sheds $300 billion in tariff-fueled sell...</td>\n",
       "      <td>https://finance.yahoo.com/news/apple-sheds-300...</td>\n",
       "      <td>Tech stocks plummeted on Thursday, with Apple ...</td>\n",
       "      <td>1 day ago</td>\n",
       "      <td>Yahoo Finance</td>\n",
       "      <td>https://encrypted-tbn0.gstatic.com/images?q=tb...</td>\n",
       "      <td>1</td>\n",
       "    </tr>\n",
       "    <tr>\n",
       "      <th>1</th>\n",
       "      <td>Overweighting Apple And Microsoft: A Strategic...</td>\n",
       "      <td>https://seekingalpha.com/article/4772934-overw...</td>\n",
       "      <td>Apr. 04, 2025 1:00 PM ETApple Inc. (AAPL) Stoc...</td>\n",
       "      <td>12 hours ago</td>\n",
       "      <td>Seeking Alpha</td>\n",
       "      <td>https://encrypted-tbn0.gstatic.com/images?q=tb...</td>\n",
       "      <td>2</td>\n",
       "    </tr>\n",
       "    <tr>\n",
       "      <th>2</th>\n",
       "      <td>Michigan State partners with Apple on Detroit ...</td>\n",
       "      <td>https://www.detroitnews.com/story/business/202...</td>\n",
       "      <td>Michigan State University said Thursday it is ...</td>\n",
       "      <td>1 day ago</td>\n",
       "      <td>The Detroit News</td>\n",
       "      <td>https://encrypted-tbn0.gstatic.com/images?q=tb...</td>\n",
       "      <td>3</td>\n",
       "    </tr>\n",
       "    <tr>\n",
       "      <th>3</th>\n",
       "      <td>What Does the Market Think About Apple?</td>\n",
       "      <td>https://www.benzinga.com/insights/short-seller...</td>\n",
       "      <td>Apple's. AAPL-6.85%. Get Free Report. short pe...</td>\n",
       "      <td>1 day ago</td>\n",
       "      <td>Benzinga</td>\n",
       "      <td>https://encrypted-tbn0.gstatic.com/images?q=tb...</td>\n",
       "      <td>4</td>\n",
       "    </tr>\n",
       "    <tr>\n",
       "      <th>4</th>\n",
       "      <td>‘Earnings Could Drop by 28%,’ Says Needham abo...</td>\n",
       "      <td>https://markets.businessinsider.com/news/stock...</td>\n",
       "      <td>Needham analysts said that tech titan Apple (A...</td>\n",
       "      <td>5 hours ago</td>\n",
       "      <td>markets.businessinsider.com</td>\n",
       "      <td>https://encrypted-tbn0.gstatic.com/images?q=tb...</td>\n",
       "      <td>5</td>\n",
       "    </tr>\n",
       "    <tr>\n",
       "      <th>5</th>\n",
       "      <td>Apple investors lose $300bn as Trump unleashes...</td>\n",
       "      <td>https://www.proactiveinvestors.co.uk/companies...</td>\n",
       "      <td>Wall Street's biggest tech names took a bruisi...</td>\n",
       "      <td>22 hours ago</td>\n",
       "      <td>Proactive Investors</td>\n",
       "      <td>https://encrypted-tbn0.gstatic.com/images?q=tb...</td>\n",
       "      <td>6</td>\n",
       "    </tr>\n",
       "    <tr>\n",
       "      <th>6</th>\n",
       "      <td>Jim Cramer Says He’s ‘With’ Latest Apple (AAPL...</td>\n",
       "      <td>https://finance.yahoo.com/news/jim-cramer-says...</td>\n",
       "      <td>We recently published a list of Top 10 Stocks ...</td>\n",
       "      <td>1 day ago</td>\n",
       "      <td>Yahoo Finance</td>\n",
       "      <td>https://encrypted-tbn0.gstatic.com/images?q=tb...</td>\n",
       "      <td>7</td>\n",
       "    </tr>\n",
       "    <tr>\n",
       "      <th>7</th>\n",
       "      <td>Apple Inc. (AAPL) Is a Trending Stock: Facts t...</td>\n",
       "      <td>https://finance.yahoo.com/news/apple-inc-aapl-...</td>\n",
       "      <td>Apple (AAPL) has been one of the stocks most w...</td>\n",
       "      <td>16 hours ago</td>\n",
       "      <td>Yahoo Finance</td>\n",
       "      <td>https://encrypted-tbn0.gstatic.com/images?q=tb...</td>\n",
       "      <td>8</td>\n",
       "    </tr>\n",
       "    <tr>\n",
       "      <th>8</th>\n",
       "      <td>Apple Just Had Its Worst Day Since 2020: The S...</td>\n",
       "      <td>https://seekingalpha.com/article/4773022-apple...</td>\n",
       "      <td>Trump's tariffs hit Apple Inc. hard, with it d...</td>\n",
       "      <td>15 hours ago</td>\n",
       "      <td>Seeking Alpha</td>\n",
       "      <td>https://encrypted-tbn0.gstatic.com/images?q=tb...</td>\n",
       "      <td>9</td>\n",
       "    </tr>\n",
       "    <tr>\n",
       "      <th>9</th>\n",
       "      <td>Jim Cramer on Apple Inc. (NASDAQ:AAPL): “Apple...</td>\n",
       "      <td>https://finance.yahoo.com/news/jim-cramer-appl...</td>\n",
       "      <td>We recently published a list of Jim Cramer Dis...</td>\n",
       "      <td>3 days ago</td>\n",
       "      <td>Yahoo Finance</td>\n",
       "      <td>https://encrypted-tbn0.gstatic.com/images?q=tb...</td>\n",
       "      <td>10</td>\n",
       "    </tr>\n",
       "  </tbody>\n",
       "</table>\n",
       "</div>"
      ],
      "text/plain": [
       "                                               title  \\\n",
       "0  Apple sheds $300 billion in tariff-fueled sell...   \n",
       "1  Overweighting Apple And Microsoft: A Strategic...   \n",
       "2  Michigan State partners with Apple on Detroit ...   \n",
       "3            What Does the Market Think About Apple?   \n",
       "4  ‘Earnings Could Drop by 28%,’ Says Needham abo...   \n",
       "5  Apple investors lose $300bn as Trump unleashes...   \n",
       "6  Jim Cramer Says He’s ‘With’ Latest Apple (AAPL...   \n",
       "7  Apple Inc. (AAPL) Is a Trending Stock: Facts t...   \n",
       "8  Apple Just Had Its Worst Day Since 2020: The S...   \n",
       "9  Jim Cramer on Apple Inc. (NASDAQ:AAPL): “Apple...   \n",
       "\n",
       "                                                link  \\\n",
       "0  https://finance.yahoo.com/news/apple-sheds-300...   \n",
       "1  https://seekingalpha.com/article/4772934-overw...   \n",
       "2  https://www.detroitnews.com/story/business/202...   \n",
       "3  https://www.benzinga.com/insights/short-seller...   \n",
       "4  https://markets.businessinsider.com/news/stock...   \n",
       "5  https://www.proactiveinvestors.co.uk/companies...   \n",
       "6  https://finance.yahoo.com/news/jim-cramer-says...   \n",
       "7  https://finance.yahoo.com/news/apple-inc-aapl-...   \n",
       "8  https://seekingalpha.com/article/4773022-apple...   \n",
       "9  https://finance.yahoo.com/news/jim-cramer-appl...   \n",
       "\n",
       "                                             snippet          date  \\\n",
       "0  Tech stocks plummeted on Thursday, with Apple ...     1 day ago   \n",
       "1  Apr. 04, 2025 1:00 PM ETApple Inc. (AAPL) Stoc...  12 hours ago   \n",
       "2  Michigan State University said Thursday it is ...     1 day ago   \n",
       "3  Apple's. AAPL-6.85%. Get Free Report. short pe...     1 day ago   \n",
       "4  Needham analysts said that tech titan Apple (A...   5 hours ago   \n",
       "5  Wall Street's biggest tech names took a bruisi...  22 hours ago   \n",
       "6  We recently published a list of Top 10 Stocks ...     1 day ago   \n",
       "7  Apple (AAPL) has been one of the stocks most w...  16 hours ago   \n",
       "8  Trump's tariffs hit Apple Inc. hard, with it d...  15 hours ago   \n",
       "9  We recently published a list of Jim Cramer Dis...    3 days ago   \n",
       "\n",
       "                        source  \\\n",
       "0                Yahoo Finance   \n",
       "1                Seeking Alpha   \n",
       "2             The Detroit News   \n",
       "3                     Benzinga   \n",
       "4  markets.businessinsider.com   \n",
       "5          Proactive Investors   \n",
       "6                Yahoo Finance   \n",
       "7                Yahoo Finance   \n",
       "8                Seeking Alpha   \n",
       "9                Yahoo Finance   \n",
       "\n",
       "                                            imageUrl  position  \n",
       "0  https://encrypted-tbn0.gstatic.com/images?q=tb...         1  \n",
       "1  https://encrypted-tbn0.gstatic.com/images?q=tb...         2  \n",
       "2  https://encrypted-tbn0.gstatic.com/images?q=tb...         3  \n",
       "3  https://encrypted-tbn0.gstatic.com/images?q=tb...         4  \n",
       "4  https://encrypted-tbn0.gstatic.com/images?q=tb...         5  \n",
       "5  https://encrypted-tbn0.gstatic.com/images?q=tb...         6  \n",
       "6  https://encrypted-tbn0.gstatic.com/images?q=tb...         7  \n",
       "7  https://encrypted-tbn0.gstatic.com/images?q=tb...         8  \n",
       "8  https://encrypted-tbn0.gstatic.com/images?q=tb...         9  \n",
       "9  https://encrypted-tbn0.gstatic.com/images?q=tb...        10  "
      ]
     },
     "execution_count": 17,
     "metadata": {},
     "output_type": "execute_result"
    }
   ],
   "source": [
    "pd.set_option('display.max_columns', None)\n",
    "pd.set_option('display.max_rows', None)\n",
    "pd.DataFrame(dt)"
   ]
  },
  {
   "cell_type": "code",
   "execution_count": 19,
   "metadata": {},
   "outputs": [],
   "source": [
    "import requests\n",
    "import os\n",
    "from dotenv import load_dotenv\n",
    "\n",
    "load_dotenv()\n",
    "API_KEY = os.getenv(\"SERPER_API_KEY\")"
   ]
  },
  {
   "cell_type": "code",
   "execution_count": 23,
   "metadata": {},
   "outputs": [],
   "source": [
    "url = \"https://google.serper.dev/search\"\n",
    "payload = json.dumps({\n",
    "            \"q\": \"bali indonesia vacation\"\n",
    "            })\n",
    "headers=  {\n",
    "            'X-API-KEY': API_KEY,\n",
    "            'Content-Type': 'application/json'\n",
    "            }\n",
    "response=requests.request(\"POST\",url,headers=headers,data=payload)\n",
    "            \n",
    "if response.status_code != 200:\n",
    "    \n",
    "    print(f\"Error: Search API request failed. Status code: {response.status_code}\")\n",
    "data=response.json()"
   ]
  },
  {
   "cell_type": "code",
   "execution_count": 26,
   "metadata": {},
   "outputs": [],
   "source": [
    "result=data[\"organic\"]"
   ]
  },
  {
   "cell_type": "code",
   "execution_count": 28,
   "metadata": {},
   "outputs": [],
   "source": [
    "string=[]"
   ]
  },
  {
   "cell_type": "code",
   "execution_count": 29,
   "metadata": {},
   "outputs": [],
   "source": [
    "for rt in result:\n",
    "    string.append(\"\\n\".join([\n",
    "        f\"Title: {rt[\"title\"]}\",\n",
    "        f\"Link: {rt[\"link\"]}\",\n",
    "        f\"Snippet: {rt[\"snippet\"]}\",\n",
    "        \"\\n------------\"\n",
    "    ]))"
   ]
  },
  {
   "cell_type": "code",
   "execution_count": 32,
   "metadata": {},
   "outputs": [
    {
     "name": "stdout",
     "output_type": "stream",
     "text": [
      "Title: Bali Vacation Packages 2025 from $1466 - Expedia.com\n",
      "Link: https://www.expedia.com/Bali.d602651.Destination-Travel-Guides\n",
      "Snippet: Bundle your Bali flight + hotel & save up to 100% off your flight with Expedia. FREE cancellation on select hotels.\n",
      "\n",
      "------------\n"
     ]
    }
   ],
   "source": [
    "print(string[0])"
   ]
  },
  {
   "cell_type": "code",
   "execution_count": 1,
   "metadata": {},
   "outputs": [],
   "source": [
    "import datetime"
   ]
  },
  {
   "cell_type": "code",
   "execution_count": 14,
   "metadata": {},
   "outputs": [],
   "source": [
    "today=datetime.datetime.now().date()\n",
    "next_year=today"
   ]
  },
  {
   "cell_type": "code",
   "execution_count": 15,
   "metadata": {},
   "outputs": [
    {
     "data": {
      "text/plain": [
       "datetime.date(2025, 4, 7)"
      ]
     },
     "execution_count": 15,
     "metadata": {},
     "output_type": "execute_result"
    }
   ],
   "source": [
    "today"
   ]
  },
  {
   "cell_type": "code",
   "execution_count": 5,
   "metadata": {},
   "outputs": [
    {
     "data": {
      "text/plain": [
       "2025"
      ]
     },
     "execution_count": 5,
     "metadata": {},
     "output_type": "execute_result"
    }
   ],
   "source": [
    "datetime.datetime.now().date().year"
   ]
  },
  {
   "cell_type": "code",
   "execution_count": 6,
   "metadata": {},
   "outputs": [
    {
     "data": {
      "text/plain": [
       "datetime.date(2026, 1, 10)"
      ]
     },
     "execution_count": 6,
     "metadata": {},
     "output_type": "execute_result"
    }
   ],
   "source": [
    "datetime.date(2026,1,10)"
   ]
  },
  {
   "cell_type": "code",
   "execution_count": 13,
   "metadata": {},
   "outputs": [
    {
     "data": {
      "text/plain": [
       "datetime.timedelta(days=6)"
      ]
     },
     "execution_count": 13,
     "metadata": {},
     "output_type": "execute_result"
    }
   ],
   "source": [
    "datetime.timedelta(days=6)"
   ]
  },
  {
   "cell_type": "code",
   "execution_count": null,
   "metadata": {},
   "outputs": [],
   "source": []
  }
 ],
 "metadata": {
  "kernelspec": {
   "display_name": "Python 3",
   "language": "python",
   "name": "python3"
  },
  "language_info": {
   "codemirror_mode": {
    "name": "ipython",
    "version": 3
   },
   "file_extension": ".py",
   "mimetype": "text/x-python",
   "name": "python",
   "nbconvert_exporter": "python",
   "pygments_lexer": "ipython3",
   "version": "3.12.0"
  }
 },
 "nbformat": 4,
 "nbformat_minor": 2
}
